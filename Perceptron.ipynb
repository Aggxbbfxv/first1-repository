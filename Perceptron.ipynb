{
  "nbformat": 4,
  "nbformat_minor": 0,
  "metadata": {
    "colab": {
      "provenance": [],
      "authorship_tag": "ABX9TyN8oJkvLYwuVLYbyqLXC6Fj",
      "include_colab_link": true
    },
    "kernelspec": {
      "name": "python3",
      "display_name": "Python 3"
    },
    "language_info": {
      "name": "python"
    }
  },
  "cells": [
    {
      "cell_type": "markdown",
      "metadata": {
        "id": "view-in-github",
        "colab_type": "text"
      },
      "source": [
        "<a href=\"https://colab.research.google.com/github/joinho1/first1-repository/blob/main/Perceptron.ipynb\" target=\"_parent\"><img src=\"https://colab.research.google.com/assets/colab-badge.svg\" alt=\"Open In Colab\"/></a>"
      ]
    },
    {
      "cell_type": "code",
      "execution_count": 4,
      "metadata": {
        "colab": {
          "base_uri": "https://localhost:8080/"
        },
        "id": "_tlhh3M3qnW4",
        "outputId": "8fe8b2c6-0189-4b2c-ad56-bcd220dbb45b"
      },
      "outputs": [
        {
          "output_type": "stream",
          "name": "stdout",
          "text": [
            "0 0.6458513736724854\n",
            "1000 0.36157989501953125\n",
            "2000 0.2794058918952942\n",
            "3000 0.22591601312160492\n",
            "4000 0.18867437541484833\n",
            "5000 0.1614101082086563\n",
            "6000 0.140659898519516\n",
            "7000 0.12438318133354187\n",
            "8000 0.11130444705486298\n",
            "9000 0.10058681666851044\n",
            "10000 0.09165871143341064\n",
            "11000 0.08411715924739838\n",
            "12000 0.07766997814178467\n",
            "13000 0.0721006765961647\n",
            "14000 0.06724551320075989\n",
            "15000 0.06297850608825684\n",
            "16000 0.05920126289129257\n",
            "17000 0.05583574250340462\n",
            "18000 0.052819568663835526\n",
            "19000 0.0501021109521389\n",
            "20000 0.04764184728264809\n",
            "tensor([[0.1022],\n",
            "        [0.9597],\n",
            "        [0.9595],\n",
            "        [0.9998]])\n",
            "tensor([[False],\n",
            "        [ True],\n",
            "        [ True],\n",
            "        [ True]])\n"
          ]
        }
      ],
      "source": [
        "import torch\n",
        "import torch.nn as nn\n",
        "device = 'cuda' if torch.cuda.is_available() else 'cpu'\n",
        "X = torch.FloatTensor([\n",
        "      [0, 0],\n",
        "      [0, 1],\n",
        "      [1, 0],\n",
        "      [1, 1]\n",
        "  ]).to(device)\n",
        "Y = torch.FloatTensor([\n",
        "      [0], [1], [1], [1]\n",
        "  ]).to(device)\n",
        "model = nn.Sequential(\n",
        "    nn.Linear(2, 1, bias=True),\n",
        "    nn.Sigmoid()\n",
        ").to(device)\n",
        "loss_func = torch.nn.BCELoss().to(device)\n",
        "optimizer = torch.optim.SGD(model.parameters(), lr=0.01)\n",
        "for step in range(20001):\n",
        "  optimizer.zero_grad()\n",
        "  Y_hat = model(X)\n",
        "  loss = loss_func(Y_hat, Y)\n",
        "  loss.backward()\n",
        "  optimizer.step()\n",
        "\n",
        "  if step % 1000 == 0:\n",
        "    print(step, loss.item())\n",
        "with torch.no_grad():\n",
        "  model.eval()\n",
        "  inputs = torch.FloatTensor([\n",
        "      [0, 0],\n",
        "      [0, 1],\n",
        "      [1, 0],\n",
        "      [1, 1]\n",
        "  ]).to(device)\n",
        "  outputs = model(inputs)\n",
        "\n",
        "  print(outputs)\n",
        "  print(outputs > 0.5)\n"
      ]
    }
  ]
}